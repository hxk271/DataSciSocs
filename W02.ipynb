{
  "cells": [
    {
      "cell_type": "markdown",
      "metadata": {
        "id": "view-in-github",
        "colab_type": "text"
      },
      "source": [
        "<a href=\"https://colab.research.google.com/github/hxk271/DataSciSocs/blob/main/W02.ipynb\" target=\"_parent\"><img src=\"https://colab.research.google.com/assets/colab-badge.svg\" alt=\"Open In Colab\"/></a>"
      ]
    },
    {
      "cell_type": "markdown",
      "id": "0ca36135",
      "metadata": {
        "id": "0ca36135"
      },
      "source": [
        "# 1. 출력과 입력 그리고 변수\n",
        "\n",
        "> 가장 먼저 파이썬에서 문자열과 숫자를 출력하는 법을 익히자. 직접 출력할 수도 있지만 **변수(variable)**를 이용할 수도 있다. 혹은 사용자로부터 입력을 받을 수도 있다."
      ]
    },
    {
      "cell_type": "code",
      "execution_count": null,
      "id": "53afc7a5",
      "metadata": {
        "id": "53afc7a5"
      },
      "outputs": [],
      "source": [
        "print(\"Hello, World!\")\n",
        "print('Hello, World!')"
      ]
    },
    {
      "cell_type": "code",
      "source": [
        "print(12+34)"
      ],
      "metadata": {
        "id": "Z05x_e6PD0Xp"
      },
      "id": "Z05x_e6PD0Xp",
      "execution_count": null,
      "outputs": []
    },
    {
      "cell_type": "code",
      "execution_count": null,
      "id": "ec2e7c13",
      "metadata": {
        "id": "ec2e7c13"
      },
      "outputs": [],
      "source": [
        "name = '파이썬'\n",
        "print(name)"
      ]
    },
    {
      "cell_type": "code",
      "execution_count": null,
      "id": "28a7c2db",
      "metadata": {
        "id": "28a7c2db"
      },
      "outputs": [],
      "source": [
        "#변수의 이름을 a에서 다른 것으로도 바꾸어보자\n",
        "a = 1024\n",
        "print(a)"
      ]
    },
    {
      "cell_type": "code",
      "execution_count": null,
      "id": "be0fbde1",
      "metadata": {
        "id": "be0fbde1"
      },
      "outputs": [],
      "source": [
        "name = '김현우'                  # 주석은 코드 오른쪽에 쓸 수 있다\n",
        "print(\"2024년 1학기에도 \" + name + ', 화이팅!!')"
      ]
    },
    {
      "cell_type": "code",
      "execution_count": null,
      "id": "8d212794",
      "metadata": {
        "id": "8d212794"
      },
      "outputs": [],
      "source": [
        "name = input()\n",
        "print(name + '님! 안녕하세요!')"
      ]
    },
    {
      "cell_type": "code",
      "execution_count": null,
      "id": "c51a9cb8",
      "metadata": {
        "id": "c51a9cb8"
      },
      "outputs": [],
      "source": [
        "name = input('이름을 입력해주세요 : ')\n",
        "print(name + '님! 안녕하세요!')"
      ]
    },
    {
      "cell_type": "code",
      "execution_count": null,
      "id": "4f10b9ed",
      "metadata": {
        "id": "4f10b9ed"
      },
      "outputs": [],
      "source": [
        "age = input('나이를 입력해주세요! : ')\n",
        "print(age-4)           #왜 작동하지 않을까?"
      ]
    },
    {
      "cell_type": "markdown",
      "source": [
        "> **문자열(string)**과 **정수(integer)** 등 자료 유형을 구분해야 한다. 가령 1234과 '1234'는 다른 것으로 취급된다는 사실을 기억하자."
      ],
      "metadata": {
        "id": "3McXXhwOqN0I"
      },
      "id": "3McXXhwOqN0I"
    },
    {
      "cell_type": "code",
      "execution_count": null,
      "id": "3d3b9c70",
      "metadata": {
        "id": "3d3b9c70"
      },
      "outputs": [],
      "source": [
        "#int() 함수는 문자열(string)로 입력된 숫자를 정수(integer)로 변환하는데 쓰인다\n",
        "age = input('나이를 입력해주세요! : ')\n",
        "print(int(age) - 4)"
      ]
    },
    {
      "cell_type": "code",
      "execution_count": null,
      "id": "af841775",
      "metadata": {
        "id": "af841775"
      },
      "outputs": [],
      "source": [
        "#str() 함수는 정수를 문자열(string)로 변환하는데 쓰인다\n",
        "name = input('이름을 입력해주세요 : ')\n",
        "age = int(input('나이를 입력해주세요 : '))\n",
        "print('안녕하세요!', name+'님! 저는 처음에 '+str(age - 3)+'살인 줄 알았어요!!')"
      ]
    },
    {
      "cell_type": "markdown",
      "id": "7efda3d7",
      "metadata": {
        "id": "7efda3d7"
      },
      "source": [
        "# 2. 연산자 사용하기\n",
        "\n",
        "> **산술 연산자(arithmetic operator)**, **비교 연산자(comparison operator)** 그리고 **논리 연산자(logical operator)**를 구분하면서 연산자를 익히자."
      ]
    },
    {
      "cell_type": "code",
      "execution_count": null,
      "id": "56ae2bac",
      "metadata": {
        "scrolled": true,
        "id": "56ae2bac"
      },
      "outputs": [],
      "source": [
        "# 산술연산: 다양한 값을 넣어보며 연습해보자\n",
        "\n",
        "print(3 * 10)              # * : 곱셈 연산자\n",
        "print(3 ** 10)             # ** : 거듭 제곱 연산자\n",
        "print(3 % 10)              # % : 나머지 연산자\n",
        "print(3 / 2)               # / : 나눗셈"
      ]
    },
    {
      "cell_type": "markdown",
      "source": [
        "> 프로그래밍의 세계에서 **=**과 **==**은 구분됨에 주의하자."
      ],
      "metadata": {
        "id": "TSdOcyOcq2bP"
      },
      "id": "TSdOcyOcq2bP"
    },
    {
      "cell_type": "code",
      "execution_count": null,
      "id": "8ecb9a56",
      "metadata": {
        "id": "8ecb9a56"
      },
      "outputs": [],
      "source": [
        "# 비교연산: 다양한 값을 넣어보며 연습해보자\n",
        "\n",
        "print(10 >= 3)\n",
        "print(10 <= 3)\n",
        "print(10 == 3)            # == : 같다(조건문)\n",
        "print(10 != 3)            # != : 같지 않다(조건문)\n",
        "print(3 % 2 == 1)"
      ]
    },
    {
      "cell_type": "code",
      "execution_count": null,
      "id": "c97d5f69",
      "metadata": {
        "id": "c97d5f69"
      },
      "outputs": [],
      "source": [
        "# 논리연산과 불리언 대수(Boolean Algebra): 다양한 값을 넣어보며 연습해보자\n",
        "\n",
        "print(1 == 1 and 2 != 1)            # True and True\n",
        "print(10 % 2 != 0 and 1 + 1 > 0)    # False and True"
      ]
    },
    {
      "cell_type": "code",
      "execution_count": null,
      "id": "0b7feb10",
      "metadata": {
        "id": "0b7feb10"
      },
      "outputs": [],
      "source": [
        "# 논리연산과 불리언 대수(Boolean Algebra): 다양한 값을 넣어보며 연습해보자\n",
        "\n",
        "print(10 < 5 or 10 == 5)          # False or False\n",
        "print(10 % 2 != 0 or 1 + 1 > 0)   # False or True"
      ]
    },
    {
      "cell_type": "code",
      "execution_count": null,
      "id": "99e09b9a",
      "metadata": {
        "scrolled": true,
        "id": "99e09b9a"
      },
      "outputs": [],
      "source": [
        "# 논리연산: 다양한 값을 넣어보며 연습해보자\n",
        "\n",
        "print(not 10 > 5)                 # not True\n",
        "print(not 10 == 5)                # not False\n",
        "print(not 0)                      # 0은 False에 해당\n",
        "print(not 10)                     # 0을 제외한 숫자도 True에 해당"
      ]
    },
    {
      "cell_type": "markdown",
      "metadata": {
        "id": "27601ff1"
      },
      "source": [
        "> *연습문제 1.* 사용자에게 섭씨온도(&deg;C)를 묻고 그에 따른 화씨온도(&deg;F)를 알려주는 코드를 작성하시오.\n",
        "<br><br>\n",
        ">$$ F = 32 + \\left(C \\times \\dfrac{180}{100} \\right) $$"
      ],
      "id": "27601ff1"
    },
    {
      "cell_type": "code",
      "execution_count": null,
      "metadata": {
        "id": "0a617eb1"
      },
      "outputs": [],
      "source": [
        "C = input(\"섭씨? \")\n",
        "C = int(C)\n",
        "F = 32 + (C * 180/100)\n",
        "print(F)"
      ],
      "id": "0a617eb1"
    },
    {
      "cell_type": "markdown",
      "id": "e6ae48bd",
      "metadata": {
        "id": "e6ae48bd"
      },
      "source": [
        "# 3. 함수 불러오기\n",
        "\n",
        "> <code>print</code>, <code>input</code>, <code>int</code>, <code>str</code> 등 지금까지 사용했던 함수들은 파이썬에서 항상 사용할 수 있도록 제공하는 *내장함수(built-in functions)*이다.\n",
        "<br><br>\n",
        "아쉽게도 내장 함수 중에는 제곱근(square root)을 구하는 함수도 없고, 랜덤한 숫자(random number)를 만들어낼 수 있는 랜덤 함수도 없다. 이런 함수들은 별도로 불러서 사용할 수 있다.\n",
        "<br><br>\n",
        "내장 함수 외의 함수들을 불러올 때는 <code>import</code>를 사용한다."
      ]
    },
    {
      "cell_type": "code",
      "execution_count": null,
      "id": "0926ffd0",
      "metadata": {
        "id": "0926ffd0"
      },
      "outputs": [],
      "source": [
        "# random 숫자의 범위를 바꿔보세요.\n",
        "\n",
        "import random\n",
        "dice = random.randint(1, 6)      #from 1 to 6\n",
        "print(dice)"
      ]
    },
    {
      "cell_type": "code",
      "execution_count": null,
      "id": "c4cfe359",
      "metadata": {
        "scrolled": true,
        "id": "c4cfe359"
      },
      "outputs": [],
      "source": [
        "import math\n",
        "print(math.sqrt(4))"
      ]
    },
    {
      "cell_type": "code",
      "source": [
        "help(math)        #help를 통해 구체적인 사용법을 알 수 있다."
      ],
      "metadata": {
        "id": "mddXZ58dGVfi"
      },
      "id": "mddXZ58dGVfi",
      "execution_count": null,
      "outputs": []
    },
    {
      "cell_type": "markdown",
      "source": [
        "> *연습문제 2.* 원의 반지름을 입력받아 원의 면적을 계산해보자. 참고로 원의 면적을 구하는 공식은 다음과 같다.\n",
        "\n",
        "$$ Area = \\pi \\times r^2 $$\n",
        "\n",
        "---\n",
        "힌트: `math` 라이브러리를 불러와 `math.pi`를 입력하면 원주율을 알 수 있다."
      ],
      "metadata": {
        "id": "25IjVf2OH7bs"
      },
      "id": "25IjVf2OH7bs"
    },
    {
      "cell_type": "code",
      "source": [
        "import math\n",
        "radius = input(\"반지름?\")\n",
        "radius = int(radius)\n",
        "area = math.pi * (radius^2)                        #math.pi ~= 3.14\n",
        "print(\"원의 면적은 \" + str(area) + \"입니다.\")"
      ],
      "metadata": {
        "id": "HDOnPvuns44l"
      },
      "id": "HDOnPvuns44l",
      "execution_count": null,
      "outputs": []
    },
    {
      "cell_type": "markdown",
      "id": "7fea6241",
      "metadata": {
        "id": "7fea6241"
      },
      "source": [
        "# 4. 반복과 선택\n",
        "\n",
        "> `for` 반복문과 `if` 조건문은 파이썬 코딩의 가장 중요한 기초를 구성한다. 사람은 결국 반복적으로 하기 싫은 일을 컴퓨터에게 시키므로 반복문과 조건문을 잘 연습해야 한다."
      ]
    },
    {
      "cell_type": "code",
      "execution_count": null,
      "id": "f7fa3cb1",
      "metadata": {
        "id": "f7fa3cb1"
      },
      "outputs": [],
      "source": [
        "# 반복문(for)\n",
        "\n",
        "for i in [0, 1, 2, 3]:\n",
        "    print(i ** 2)                #들여쓰기(indentation)에 주의하자"
      ]
    },
    {
      "cell_type": "code",
      "execution_count": null,
      "id": "8cdab3ad",
      "metadata": {
        "id": "8cdab3ad"
      },
      "outputs": [],
      "source": [
        "#range(100) : 0 이상 100 미만(0, 1, 2, ..., 98, 99)의 범위를 갖는 정수\n",
        "\n",
        "for i in range(100):\n",
        "    print(i)"
      ]
    },
    {
      "cell_type": "code",
      "execution_count": null,
      "id": "49c9c859",
      "metadata": {
        "id": "49c9c859"
      },
      "outputs": [],
      "source": [
        "for i in range(5):\n",
        "    print('지금 파이썬을 배운다!')"
      ]
    },
    {
      "cell_type": "code",
      "execution_count": null,
      "id": "692f7874",
      "metadata": {
        "id": "692f7874"
      },
      "outputs": [],
      "source": [
        "name = '파이썬'\n",
        "for i in name:\n",
        "    print(i)"
      ]
    },
    {
      "cell_type": "code",
      "execution_count": null,
      "id": "21ae6aac",
      "metadata": {
        "id": "21ae6aac"
      },
      "outputs": [],
      "source": [
        "# 조건문(if)\n",
        "\n",
        "if 10 > 0:\n",
        "    print('안녕하세요?')"
      ]
    },
    {
      "cell_type": "code",
      "execution_count": null,
      "id": "e8eb5307",
      "metadata": {
        "id": "e8eb5307"
      },
      "outputs": [],
      "source": [
        "if 10 != 0 and 5 % 2 == 1:\n",
        "    print('안녕하세요?')"
      ]
    },
    {
      "cell_type": "code",
      "execution_count": null,
      "id": "b1679dd3",
      "metadata": {
        "id": "b1679dd3"
      },
      "outputs": [],
      "source": [
        "passwd = int(input('비밀번호 4자리를 입력하세요 : '))\n",
        "if passwd == 1531:\n",
        "    print('비밀번호가 일치합니다.')"
      ]
    },
    {
      "cell_type": "code",
      "execution_count": null,
      "id": "ba571b65",
      "metadata": {
        "id": "ba571b65"
      },
      "outputs": [],
      "source": [
        "passwd = int(input('비밀번호 4자리를 입력하세요 : '))\n",
        "if passwd == 1531:\n",
        "    print('비밀번호가 일치합니다.')\n",
        "else:\n",
        "    print('비밀번호가 일치하지 않습니다')"
      ]
    },
    {
      "cell_type": "code",
      "execution_count": null,
      "id": "54fb81ac",
      "metadata": {
        "id": "54fb81ac"
      },
      "outputs": [],
      "source": [
        "#다중 조건문은 if, elif, else 순서로 작성한다\n",
        "\n",
        "print('[ 소름끼치도록 놀라운 심리테스트 ]')\n",
        "menu = input('당신이 좋아하는 음식을 입력해주세요 : ')\n",
        "\n",
        "if menu == '짜장면':\n",
        "    print('당신은 짜장면을 좋아하는 사람입니다.')\n",
        "\n",
        "elif menu == '아이스크림':\n",
        "    print('당신은 아이스크림을 좋아하는 사람입니다.')\n",
        "\n",
        "elif menu == '사탕':\n",
        "    print('당신은 사탕을 좋아하는 사람입니다.')\n",
        "\n",
        "else:\n",
        "    print('당신은 짜장면과 아이스크림과 사탕을 좋아하지 않는 사람입니다.')"
      ]
    },
    {
      "cell_type": "markdown",
      "metadata": {
        "id": "b9a07e60"
      },
      "source": [
        "> *연습문제 3 (Password Brute-Force).* 컴퓨터에게 알려지지 않은 비밀번호는 9981 이다. 컴퓨터가 스스로 이 비밀번호를 맞출 때까지 0부터 9999까지 계속 순서대로 도전하는 프로그램을 작성하시오."
      ],
      "id": "b9a07e60"
    },
    {
      "cell_type": "code",
      "execution_count": null,
      "metadata": {
        "id": "6cbf8851"
      },
      "outputs": [],
      "source": [
        "password = 9981                 #각자 수정해볼 것!\n",
        "\n",
        "for i in range(0, 10000):\n",
        "    if i == password:                                           # 1단계 들여쓰기\n",
        "        print(\"암호는 \" + str(i) + \" 였습니다!\")                # 2단계 들여쓰기\n",
        "    else:\n",
        "        print(\"암호는 \" + str(i) + \"이/가 아니었습니다!\")"
      ],
      "id": "6cbf8851"
    },
    {
      "cell_type": "markdown",
      "metadata": {
        "id": "05cea7bf"
      },
      "source": [
        "> **연습문제 4 (Guessing Game).* 다음과 같은 규칙을 따르는 게임을 만드시오:\n",
        "<br>\n",
        "<br>\n",
        "(1) 컴퓨터는 1과 100 사이에서 어떤 임의의 숫자를 준비한다.\n",
        "<br>\n",
        "(2) 사용자는 10번 도전하여 이 답을 맞춘다.\n",
        "<br>\n",
        "(3) 오답일 경우 정답에 비해 큰지 작은지 알려준다."
      ],
      "id": "05cea7bf"
    },
    {
      "cell_type": "code",
      "execution_count": null,
      "metadata": {
        "id": "904d3041"
      },
      "outputs": [],
      "source": [
        "import random\n",
        "real_answer = random.randint(1, 100)\n",
        "\n",
        "for j in range(0, 10):\n",
        "    your_answer = int(input(str(j) + \"번째 도전! \"))\n",
        "\n",
        "    if real_answer > your_answer:\n",
        "        print('그거보단 큼')\n",
        "    elif real_answer < your_answer:\n",
        "        print('그거보단 작음')\n",
        "    elif real_answer == your_answer:\n",
        "        print('오올~ 정답!')\n",
        "\n",
        "        break             #이것은 루프에서 빠져나가는 마법의 키워드! 이것이 없으면 어떻게 될지 생각해보자."
      ],
      "id": "904d3041"
    },
    {
      "cell_type": "markdown",
      "id": "67cec2ae",
      "metadata": {
        "id": "67cec2ae"
      },
      "source": [
        "# 5. 리스트\n",
        "\n",
        "> *리스트(list)*는 파이썬에서 데이터를 보관하는 가장 일반적인 방식이다. \"순서가 있는\" 저장 방식이다. [ ] 안에 문자나 숫자 등을 집어넣어 관리한다. 이렇게 리스트를 한 번 만들면 나중에 편리하게 불러오거나 추가$\\cdot$삭제할 수 있다.\n",
        "<br><br>\n",
        "> 1. 리스트에 저장된 위치(index)로 값에 접근하기(indexing)\n",
        "<br>\n",
        "2. 리스트에 저장된 위치로 데이터의 일부 자르기(slicing)\n",
        "<br>\n",
        "3. 리스트에 값 추가하기"
      ]
    },
    {
      "cell_type": "code",
      "source": [
        "numbers = [1, 2, 3]\n",
        "print(numbers)"
      ],
      "metadata": {
        "id": "p3W1jc4-LLPE"
      },
      "execution_count": null,
      "outputs": [],
      "id": "p3W1jc4-LLPE"
    },
    {
      "cell_type": "code",
      "source": [
        "names = ['가현', '나현', '다현']\n",
        "print(names[1])"
      ],
      "metadata": {
        "id": "r9ZzKbuvLltr"
      },
      "execution_count": null,
      "outputs": [],
      "id": "r9ZzKbuvLltr"
    },
    {
      "cell_type": "code",
      "execution_count": null,
      "id": "b4c66ea7",
      "metadata": {
        "id": "b4c66ea7"
      },
      "outputs": [],
      "source": [
        "names = ['가현', '나현', '다현']\n",
        "for name in names:\n",
        "    print(name)"
      ]
    },
    {
      "cell_type": "code",
      "execution_count": null,
      "id": "92d62e36",
      "metadata": {
        "id": "92d62e36"
      },
      "outputs": [],
      "source": [
        "names = ['가현', '나현', '다현']\n",
        "print(names[-1])"
      ]
    },
    {
      "cell_type": "markdown",
      "source": [
        "> *행렬(matrix)*은 리스트 안의 리스트로 표현할 수 있다."
      ],
      "metadata": {
        "id": "UK30rzGSTgFY"
      },
      "id": "UK30rzGSTgFY"
    },
    {
      "cell_type": "code",
      "source": [
        "matrix = [[1, 2, 3],\n",
        "          [4, 5, 6],\n",
        "          [7, 8, 9]]\n",
        "print(matrix)\n",
        "print(matrix[0])\n",
        "print(matrix[0][0])"
      ],
      "metadata": {
        "id": "uXVNLyInMJ1O"
      },
      "execution_count": null,
      "outputs": [],
      "id": "uXVNLyInMJ1O"
    },
    {
      "cell_type": "markdown",
      "source": [
        "> 반복문의 <code>range</code>와 리스트를 잘 섞을 수 있다."
      ],
      "metadata": {
        "id": "O8aItFiBUBX3"
      },
      "id": "O8aItFiBUBX3"
    },
    {
      "cell_type": "code",
      "execution_count": null,
      "id": "923fb7d2",
      "metadata": {
        "id": "923fb7d2"
      },
      "outputs": [],
      "source": [
        "for i in [0, 1, 2, 3]:\n",
        "    print(i ** 2)"
      ]
    },
    {
      "cell_type": "code",
      "execution_count": null,
      "id": "8af61086",
      "metadata": {
        "id": "8af61086"
      },
      "outputs": [],
      "source": [
        "names = ['가현', '나현', '다현']\n",
        "print(names[1])"
      ]
    },
    {
      "cell_type": "markdown",
      "source": [
        "> 리스트는 *일부 자르기(slicing)*를 할 수 있다. 이것을 능숙하게 사용할 수 있어야 한다!"
      ],
      "metadata": {
        "id": "Uh2Jr4ysTimI"
      },
      "id": "Uh2Jr4ysTimI"
    },
    {
      "cell_type": "code",
      "execution_count": null,
      "id": "91d00fb0",
      "metadata": {
        "id": "91d00fb0"
      },
      "outputs": [],
      "source": [
        "names = ['가현', '나현', '다현']\n",
        "print(names[0:1])\n",
        "print(names[1:2])\n",
        "print(names[1:])\n",
        "print(names[:])"
      ]
    },
    {
      "cell_type": "markdown",
      "source": [
        "> 리스트에 새로운 값을 추가할 수도 잇다. 이때는 <code>append</code>를 사용한다."
      ],
      "metadata": {
        "id": "y6LsNI4TTrFn"
      },
      "id": "y6LsNI4TTrFn"
    },
    {
      "cell_type": "code",
      "execution_count": null,
      "id": "2bb4b487",
      "metadata": {
        "id": "2bb4b487"
      },
      "outputs": [],
      "source": [
        "names = ['가현', '나현', '다현']\n",
        "names.append('라현') # 리스트에 값 추가하기\n",
        "print(names)"
      ]
    },
    {
      "cell_type": "code",
      "execution_count": null,
      "id": "51aeaea8",
      "metadata": {
        "id": "51aeaea8"
      },
      "outputs": [],
      "source": [
        "print(len(names))           # 리스트 길이 출력하기\n",
        "print(len(names[0]))        # 문자열 길이 출력하기"
      ]
    },
    {
      "cell_type": "markdown",
      "metadata": {
        "id": "72c9a47c"
      },
      "source": [
        "> *연습문제 5.* 사용자에게 1에서 10사이의 *정수(integer)*인 난수를 몇 개나 만들 것인가 물어보고 그만큼의 난수를 만들어 리스트에 집어넣고 이를 출력하시오."
      ],
      "id": "72c9a47c"
    },
    {
      "cell_type": "code",
      "execution_count": null,
      "metadata": {
        "id": "16cb447a"
      },
      "outputs": [],
      "source": [
        "import random\n",
        "\n",
        "num = int(input(\"난수를 몇 개나 만들까요?\"))\n",
        "numbers = []            #비어있는 리스트를 만든다\n",
        "\n",
        "for i in range(num):\n",
        "    number = random.randint(1, 11)    #10이 아니라 11로 해야한다!\n",
        "    numbers.append(number)            #리스트 뒤에 점찍고 append를 하면 새로운 요소를 추가할 수 있다.\n",
        "\n",
        "print(numbers)"
      ],
      "id": "16cb447a"
    },
    {
      "cell_type": "markdown",
      "source": [
        "> **연습문제 6.** <code>even_nums</code>라는 비어있는 리스트를 먼저 만드시오. 그 뒤, 0에서 100까지 숫자에서 짝수만을 이 리스트 안에 집어넣으시오."
      ],
      "metadata": {
        "id": "Fk30aBFdSGKw"
      },
      "id": "Fk30aBFdSGKw"
    }
  ],
  "metadata": {
    "kernelspec": {
      "display_name": "Python 3 (ipykernel)",
      "language": "python",
      "name": "python3"
    },
    "language_info": {
      "codemirror_mode": {
        "name": "ipython",
        "version": 3
      },
      "file_extension": ".py",
      "mimetype": "text/x-python",
      "name": "python",
      "nbconvert_exporter": "python",
      "pygments_lexer": "ipython3",
      "version": "3.9.7"
    },
    "colab": {
      "provenance": [],
      "include_colab_link": true
    }
  },
  "nbformat": 4,
  "nbformat_minor": 5
}